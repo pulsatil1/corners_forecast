{
 "cells": [
  {
   "cell_type": "code",
   "execution_count": 1,
   "id": "bdf7fb5e",
   "metadata": {
    "ExecuteTime": {
     "end_time": "2023-10-01T14:53:04.658137Z",
     "start_time": "2023-10-01T14:53:04.644163Z"
    }
   },
   "outputs": [],
   "source": [
    "#https://www.kaggle.com/code/blessontomjoseph/premier-league-predictions\n",
    "#https://www.kaggle.com/code/jeongwonwoobit/epl-winner"
   ]
  },
  {
   "cell_type": "code",
   "execution_count": 2,
   "id": "185ca79a",
   "metadata": {
    "ExecuteTime": {
     "end_time": "2023-10-01T14:59:21.284610Z",
     "start_time": "2023-10-01T14:59:17.671907Z"
    }
   },
   "outputs": [
    {
     "ename": "ModuleNotFoundError",
     "evalue": "No module named 'skopt'",
     "output_type": "error",
     "traceback": [
      "\u001b[1;31m---------------------------------------------------------------------------\u001b[0m",
      "\u001b[1;31mModuleNotFoundError\u001b[0m                       Traceback (most recent call last)",
      "Cell \u001b[1;32mIn[2], line 24\u001b[0m\n\u001b[0;32m     22\u001b[0m \u001b[38;5;28;01mfrom\u001b[39;00m \u001b[38;5;21;01msklearn\u001b[39;00m\u001b[38;5;21;01m.\u001b[39;00m\u001b[38;5;21;01mmetrics\u001b[39;00m \u001b[38;5;28;01mimport\u001b[39;00m make_scorer\n\u001b[0;32m     23\u001b[0m \u001b[38;5;28;01mfrom\u001b[39;00m \u001b[38;5;21;01mxgboost\u001b[39;00m \u001b[38;5;28;01mimport\u001b[39;00m XGBClassifier, DMatrix\n\u001b[1;32m---> 24\u001b[0m \u001b[38;5;28;01mfrom\u001b[39;00m \u001b[38;5;21;01mskopt\u001b[39;00m\u001b[38;5;21;01m.\u001b[39;00m\u001b[38;5;21;01mcallbacks\u001b[39;00m \u001b[38;5;28;01mimport\u001b[39;00m DeadlineStopper, DeltaYStopper\n\u001b[0;32m     25\u001b[0m \u001b[38;5;28;01mfrom\u001b[39;00m \u001b[38;5;21;01mskopt\u001b[39;00m\u001b[38;5;21;01m.\u001b[39;00m\u001b[38;5;21;01mspace\u001b[39;00m \u001b[38;5;28;01mimport\u001b[39;00m Real, Categorical, Integer\n\u001b[0;32m     26\u001b[0m \u001b[38;5;28;01mfrom\u001b[39;00m \u001b[38;5;21;01mskopt\u001b[39;00m \u001b[38;5;28;01mimport\u001b[39;00m BayesSearchCV\n",
      "\u001b[1;31mModuleNotFoundError\u001b[0m: No module named 'skopt'"
     ]
    }
   ],
   "source": [
    "from time import time\n",
    "import pprint\n",
    "import tqdm\n",
    "import pickle\n",
    "import warnings\n",
    "import numpy as np\n",
    "import pandas as pd\n",
    "import seaborn as sns\n",
    "import matplotlib.pyplot as plt\n",
    "\n",
    "from collections import namedtuple,OrderedDict\n",
    "from functools import partial\n",
    "\n",
    "from sklearn.ensemble import IsolationForest\n",
    "from sklearn.neighbors import LocalOutlierFactor\n",
    "from sklearn.decomposition import PCA\n",
    "from sklearn.feature_selection import mutual_info_classif\n",
    "from sklearn.preprocessing import StandardScaler\n",
    "from sklearn.model_selection import StratifiedKFold\n",
    "from sklearn.decomposition import TruncatedSVD\n",
    "from sklearn.feature_extraction.text import TfidfVectorizer, CountVectorizer\n",
    "from sklearn.metrics import make_scorer\n",
    "from xgboost import XGBClassifier, DMatrix\n",
    "from skopt.callbacks import DeadlineStopper, DeltaYStopper\n",
    "from skopt.space import Real, Categorical, Integer\n",
    "from skopt import BayesSearchCV\n",
    "from sklearn.pipeline import Pipeline\n",
    "from sklearn.model_selection import train_test_split\n",
    "from sklearn.metrics import accuracy_score,f1_score,recall_score,precision_score,confusion_matrix\n",
    "\n",
    "sns.set_style('darkgrid')\n",
    "warnings.simplefilter('ignore')"
   ]
  },
  {
   "cell_type": "code",
   "execution_count": 3,
   "id": "b46cd222",
   "metadata": {
    "ExecuteTime": {
     "end_time": "2023-10-01T15:09:37.130291Z",
     "start_time": "2023-10-01T15:09:31.762311Z"
    }
   },
   "outputs": [],
   "source": [
    "import numpy as np # linear algebra\n",
    "import pandas as pd # data processing, CSV file I/O (e.g. pd.read_csv)\n",
    "import tensorflow as tf"
   ]
  },
  {
   "cell_type": "code",
   "execution_count": 6,
   "id": "edb8a42d",
   "metadata": {
    "ExecuteTime": {
     "end_time": "2023-10-01T15:10:44.144110Z",
     "start_time": "2023-10-01T15:10:44.127154Z"
    }
   },
   "outputs": [],
   "source": [
    "data_csv = '../data/EPL_results/results.csv'"
   ]
  },
  {
   "cell_type": "code",
   "execution_count": 13,
   "id": "95ca4bd4",
   "metadata": {
    "ExecuteTime": {
     "end_time": "2023-10-01T15:11:36.035661Z",
     "start_time": "2023-10-01T15:11:36.000228Z"
    }
   },
   "outputs": [
    {
     "name": "stdout",
     "output_type": "stream",
     "text": [
      "       Season              DateTime     HomeTeam        AwayTeam  FTHG  FTAG  \\\n",
      "8284  2021-22  2022-04-09T17:30:00Z  Aston Villa       Tottenham     0     4   \n",
      "8285  2021-22  2022-04-10T14:00:00Z    Brentford        West Ham     2     0   \n",
      "8286  2021-22  2022-04-10T14:00:00Z    Leicester  Crystal Palace     2     1   \n",
      "8287  2021-22  2022-04-10T14:00:00Z      Norwich         Burnley     2     0   \n",
      "8288  2021-22  2022-04-10T16:30:00Z     Man City       Liverpool     2     2   \n",
      "\n",
      "     FTR  HTHG  HTAG HTR  ... HST  AST  HC  AC  HF  AF  HY  AY  HR  AR  \n",
      "8284   A     0     1   A  ...   8    5   9   3  12  14   2   3   0   0  \n",
      "8285   H     0     0   D  ...   7    1   4   6   2   6   0   1   0   0  \n",
      "8286   H     2     0   H  ...   3    3   3   4  11  12   1   1   0   0  \n",
      "8287   H     1     0   H  ...   6    4   6   7  12  10   1   1   0   0  \n",
      "8288   D     2     1   H  ...   5    4   4   1   9  11   1   4   0   0  \n",
      "\n",
      "[5 rows x 23 columns]\n"
     ]
    }
   ],
   "source": [
    "df = pd.read_csv(data_csv, encoding='windows-1254')\n",
    "print(df.tail())"
   ]
  },
  {
   "cell_type": "code",
   "execution_count": null,
   "id": "0bf21ce2",
   "metadata": {},
   "outputs": [],
   "source": []
  }
 ],
 "metadata": {
  "kernelspec": {
   "display_name": "Python 3 (ipykernel)",
   "language": "python",
   "name": "python3"
  },
  "language_info": {
   "codemirror_mode": {
    "name": "ipython",
    "version": 3
   },
   "file_extension": ".py",
   "mimetype": "text/x-python",
   "name": "python",
   "nbconvert_exporter": "python",
   "pygments_lexer": "ipython3",
   "version": "3.10.9"
  },
  "toc": {
   "base_numbering": 1,
   "nav_menu": {},
   "number_sections": true,
   "sideBar": true,
   "skip_h1_title": false,
   "title_cell": "Table of Contents",
   "title_sidebar": "Contents",
   "toc_cell": false,
   "toc_position": {},
   "toc_section_display": true,
   "toc_window_display": false
  }
 },
 "nbformat": 4,
 "nbformat_minor": 5
}
